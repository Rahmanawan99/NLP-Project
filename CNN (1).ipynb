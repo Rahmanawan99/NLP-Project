{
  "nbformat": 4,
  "nbformat_minor": 0,
  "metadata": {
    "colab": {
      "provenance": [],
      "gpuType": "T4"
    },
    "kernelspec": {
      "name": "python3",
      "display_name": "Python 3"
    },
    "language_info": {
      "name": "python"
    },
    "accelerator": "GPU"
  },
  "cells": [
    {
      "cell_type": "code",
      "source": [
        "pip install tensorflow"
      ],
      "metadata": {
        "id": "yLhYt3FMJJmn"
      },
      "execution_count": null,
      "outputs": []
    },
    {
      "cell_type": "code",
      "execution_count": null,
      "metadata": {
        "colab": {
          "base_uri": "https://localhost:8080/"
        },
        "id": "9T_3-fuAI35g",
        "outputId": "5b7015b1-2a3c-4be1-fe67-07550fadc62c"
      },
      "outputs": [
        {
          "output_type": "stream",
          "name": "stdout",
          "text": [
            "Dataset sample:\n",
            "                                               line1  \\\n",
            "0                                        They do to!   \n",
            "1                                          She okay?   \n",
            "2                                                Wow   \n",
            "3  I'm kidding.  You know how sometimes you just ...   \n",
            "4                                                 No   \n",
            "\n",
            "                                            line2  \n",
            "0                                    They do not!  \n",
            "1                                      I hope so.  \n",
            "2                                       Let's go.  \n",
            "3                                              No  \n",
            "4  Okay -- you're gonna need to learn how to lie.  \n",
            "\n",
            "Cleaned dataset sample:\n",
            "                                       combined_text  sentiment\n",
            "0                             they do to they do not          0\n",
            "1                                 she okay i hope so          0\n",
            "2                                        wow lets go          1\n",
            "3  im kidding  you know how sometimes you just be...          1\n",
            "4      no okay  youre gonna need to learn how to lie          0\n",
            "\n",
            "Padded data shapes:\n",
            "X_train_padded shape: (177025, 100)\n",
            "X_test_padded shape: (44257, 100)\n"
          ]
        }
      ],
      "source": [
        "import pandas as pd\n",
        "import numpy as np\n",
        "import re\n",
        "from sklearn.model_selection import train_test_split\n",
        "from tensorflow.keras.preprocessing.text import Tokenizer\n",
        "from tensorflow.keras.preprocessing.sequence import pad_sequences\n",
        "\n",
        "# Load the movie lines dataset assuming tab-separated format\n",
        "lines = pd.read_csv('formatted_movie_lines.txt', sep='\\t', header=None, names=['line1', 'line2'])\n",
        "\n",
        "# Check the structure of the DataFrame\n",
        "print(\"Dataset sample:\")\n",
        "print(lines.head())\n",
        "\n",
        "# Create a random sentiment label for illustration purposes (use actual labels if available)\n",
        "lines['sentiment'] = np.random.choice([0, 1], size=len(lines))  # Random binary sentiment\n",
        "\n",
        "# Preprocessing the text: Lowercasing, removing non-alphanumeric characters\n",
        "lines['cleaned_line1'] = lines['line1'].apply(lambda x: re.sub(r\"[^a-zA-Z0-9\\s]\", \"\", x.lower()))\n",
        "lines['cleaned_line2'] = lines['line2'].apply(lambda x: re.sub(r\"[^a-zA-Z0-9\\s]\", \"\", x.lower()))\n",
        "\n",
        "# Combine both lines into one text column (optional step)\n",
        "lines['combined_text'] = lines['cleaned_line1'] + \" \" + lines['cleaned_line2']\n",
        "\n",
        "# Show the cleaned text\n",
        "print(\"\\nCleaned dataset sample:\")\n",
        "print(lines[['combined_text', 'sentiment']].head())\n",
        "\n",
        "# Splitting data into training and test sets\n",
        "X_train, X_test, y_train, y_test = train_test_split(lines['combined_text'], lines['sentiment'], test_size=0.2, random_state=42)\n",
        "\n",
        "# Tokenization\n",
        "tokenizer = Tokenizer(num_words=10000)  # Use a vocabulary of 10,000 most frequent words\n",
        "tokenizer.fit_on_texts(X_train)\n",
        "\n",
        "# Convert text to sequences\n",
        "X_train_seq = tokenizer.texts_to_sequences(X_train)\n",
        "X_test_seq = tokenizer.texts_to_sequences(X_test)\n",
        "\n",
        "# Padding the sequences to ensure uniform input size\n",
        "X_train_padded = pad_sequences(X_train_seq, padding='post', maxlen=100)  # Max sequence length: 100\n",
        "X_test_padded = pad_sequences(X_test_seq, padding='post', maxlen=100)\n",
        "\n",
        "\n",
        "\n",
        "# Output the shapes of the training and test sets\n",
        "print(\"\\nPadded data shapes:\")\n",
        "print(f\"X_train_padded shape: {X_train_padded.shape}\")\n",
        "print(f\"X_test_padded shape: {X_test_padded.shape}\")\n"
      ]
    },
    {
      "cell_type": "code",
      "source": [
        "import tensorflow as tf\n",
        "from tensorflow.keras.models import Sequential\n",
        "from tensorflow.keras.layers import Conv1D, MaxPooling1D, Dense, Embedding, Flatten, Dropout\n",
        "\n",
        "# Define the CNN model\n",
        "model = Sequential([\n",
        "    Embedding(input_dim=10000, output_dim=128, input_length=100),  # Embedding layer for tokenized text\n",
        "    Conv1D(128, 5, activation='relu'),  # Convolutional layer\n",
        "    MaxPooling1D(pool_size=2),  # Max pooling\n",
        "    Dropout(0.5),  # Dropout layer for regularization\n",
        "    Flatten(),  # Flatten the output\n",
        "    Dense(128, activation='relu'),  # Dense layer\n",
        "    Dense(1, activation='sigmoid')  # Output layer (binary classification)\n",
        "])\n",
        "\n",
        "# Compile the model\n",
        "model.compile(optimizer='adam', loss='binary_crossentropy', metrics=['accuracy'])\n",
        "\n",
        "# Train the model\n",
        "history = model.fit(X_train_padded, y_train, epochs=50, batch_size=64, validation_data=(X_test_padded, y_test))\n"
      ],
      "metadata": {
        "colab": {
          "base_uri": "https://localhost:8080/"
        },
        "id": "VC22guFVJBlS",
        "outputId": "08b06421-af9c-4fe5-c727-28c482d3542e"
      },
      "execution_count": null,
      "outputs": [
        {
          "output_type": "stream",
          "name": "stdout",
          "text": [
            "Epoch 1/50\n",
            "\u001b[1m2767/2767\u001b[0m \u001b[32m━━━━━━━━━━━━━━━━━━━━\u001b[0m\u001b[37m\u001b[0m \u001b[1m84s\u001b[0m 5ms/step - accuracy: 0.5002 - loss: 0.6936 - val_accuracy: 0.5006 - val_loss: 0.6932\n",
            "Epoch 2/50\n",
            "\u001b[1m2767/2767\u001b[0m \u001b[32m━━━━━━━━━━━━━━━━━━━━\u001b[0m\u001b[37m\u001b[0m \u001b[1m18s\u001b[0m 4ms/step - accuracy: 0.5228 - loss: 0.6915 - val_accuracy: 0.5020 - val_loss: 0.6951\n",
            "Epoch 3/50\n",
            "\u001b[1m2767/2767\u001b[0m \u001b[32m━━━━━━━━━━━━━━━━━━━━\u001b[0m\u001b[37m\u001b[0m \u001b[1m11s\u001b[0m 4ms/step - accuracy: 0.6017 - loss: 0.6552 - val_accuracy: 0.5013 - val_loss: 0.7213\n",
            "Epoch 4/50\n",
            "\u001b[1m2767/2767\u001b[0m \u001b[32m━━━━━━━━━━━━━━━━━━━━\u001b[0m\u001b[37m\u001b[0m \u001b[1m11s\u001b[0m 4ms/step - accuracy: 0.6790 - loss: 0.5718 - val_accuracy: 0.5011 - val_loss: 0.7872\n",
            "Epoch 5/50\n",
            "\u001b[1m2767/2767\u001b[0m \u001b[32m━━━━━━━━━━━━━━━━━━━━\u001b[0m\u001b[37m\u001b[0m \u001b[1m21s\u001b[0m 4ms/step - accuracy: 0.7296 - loss: 0.4958 - val_accuracy: 0.4975 - val_loss: 0.8859\n",
            "Epoch 6/50\n",
            "\u001b[1m2767/2767\u001b[0m \u001b[32m━━━━━━━━━━━━━━━━━━━━\u001b[0m\u001b[37m\u001b[0m \u001b[1m11s\u001b[0m 4ms/step - accuracy: 0.7601 - loss: 0.4463 - val_accuracy: 0.4973 - val_loss: 0.9506\n",
            "Epoch 7/50\n",
            "\u001b[1m2767/2767\u001b[0m \u001b[32m━━━━━━━━━━━━━━━━━━━━\u001b[0m\u001b[37m\u001b[0m \u001b[1m20s\u001b[0m 4ms/step - accuracy: 0.7851 - loss: 0.4082 - val_accuracy: 0.4965 - val_loss: 1.0302\n",
            "Epoch 8/50\n",
            "\u001b[1m2767/2767\u001b[0m \u001b[32m━━━━━━━━━━━━━━━━━━━━\u001b[0m\u001b[37m\u001b[0m \u001b[1m11s\u001b[0m 4ms/step - accuracy: 0.8026 - loss: 0.3790 - val_accuracy: 0.4973 - val_loss: 1.1134\n",
            "Epoch 9/50\n",
            "\u001b[1m2767/2767\u001b[0m \u001b[32m━━━━━━━━━━━━━━━━━━━━\u001b[0m\u001b[37m\u001b[0m \u001b[1m21s\u001b[0m 4ms/step - accuracy: 0.8143 - loss: 0.3582 - val_accuracy: 0.4997 - val_loss: 1.2031\n",
            "Epoch 10/50\n",
            "\u001b[1m2767/2767\u001b[0m \u001b[32m━━━━━━━━━━━━━━━━━━━━\u001b[0m\u001b[37m\u001b[0m \u001b[1m11s\u001b[0m 4ms/step - accuracy: 0.8317 - loss: 0.3312 - val_accuracy: 0.4978 - val_loss: 1.2586\n",
            "Epoch 11/50\n",
            "\u001b[1m2767/2767\u001b[0m \u001b[32m━━━━━━━━━━━━━━━━━━━━\u001b[0m\u001b[37m\u001b[0m \u001b[1m11s\u001b[0m 4ms/step - accuracy: 0.8371 - loss: 0.3195 - val_accuracy: 0.4997 - val_loss: 1.3054\n",
            "Epoch 12/50\n",
            "\u001b[1m2767/2767\u001b[0m \u001b[32m━━━━━━━━━━━━━━━━━━━━\u001b[0m\u001b[37m\u001b[0m \u001b[1m11s\u001b[0m 4ms/step - accuracy: 0.8471 - loss: 0.3033 - val_accuracy: 0.4999 - val_loss: 1.4007\n",
            "Epoch 13/50\n",
            "\u001b[1m2767/2767\u001b[0m \u001b[32m━━━━━━━━━━━━━━━━━━━━\u001b[0m\u001b[37m\u001b[0m \u001b[1m11s\u001b[0m 4ms/step - accuracy: 0.8551 - loss: 0.2912 - val_accuracy: 0.4996 - val_loss: 1.3757\n",
            "Epoch 14/50\n",
            "\u001b[1m2767/2767\u001b[0m \u001b[32m━━━━━━━━━━━━━━━━━━━━\u001b[0m\u001b[37m\u001b[0m \u001b[1m11s\u001b[0m 4ms/step - accuracy: 0.8616 - loss: 0.2778 - val_accuracy: 0.5016 - val_loss: 1.4499\n",
            "Epoch 15/50\n",
            "\u001b[1m2767/2767\u001b[0m \u001b[32m━━━━━━━━━━━━━━━━━━━━\u001b[0m\u001b[37m\u001b[0m \u001b[1m21s\u001b[0m 4ms/step - accuracy: 0.8687 - loss: 0.2657 - val_accuracy: 0.5003 - val_loss: 1.4805\n",
            "Epoch 16/50\n",
            "\u001b[1m2767/2767\u001b[0m \u001b[32m━━━━━━━━━━━━━━━━━━━━\u001b[0m\u001b[37m\u001b[0m \u001b[1m20s\u001b[0m 4ms/step - accuracy: 0.8745 - loss: 0.2557 - val_accuracy: 0.4973 - val_loss: 1.5175\n",
            "Epoch 17/50\n",
            "\u001b[1m2767/2767\u001b[0m \u001b[32m━━━━━━━━━━━━━━━━━━━━\u001b[0m\u001b[37m\u001b[0m \u001b[1m21s\u001b[0m 4ms/step - accuracy: 0.8763 - loss: 0.2503 - val_accuracy: 0.4974 - val_loss: 1.6172\n",
            "Epoch 18/50\n",
            "\u001b[1m2767/2767\u001b[0m \u001b[32m━━━━━━━━━━━━━━━━━━━━\u001b[0m\u001b[37m\u001b[0m \u001b[1m11s\u001b[0m 4ms/step - accuracy: 0.8824 - loss: 0.2414 - val_accuracy: 0.4977 - val_loss: 1.5826\n",
            "Epoch 19/50\n",
            "\u001b[1m2767/2767\u001b[0m \u001b[32m━━━━━━━━━━━━━━━━━━━━\u001b[0m\u001b[37m\u001b[0m \u001b[1m21s\u001b[0m 4ms/step - accuracy: 0.8859 - loss: 0.2348 - val_accuracy: 0.4997 - val_loss: 1.6662\n",
            "Epoch 20/50\n",
            "\u001b[1m2767/2767\u001b[0m \u001b[32m━━━━━━━━━━━━━━━━━━━━\u001b[0m\u001b[37m\u001b[0m \u001b[1m11s\u001b[0m 4ms/step - accuracy: 0.8927 - loss: 0.2239 - val_accuracy: 0.4986 - val_loss: 1.5974\n",
            "Epoch 21/50\n",
            "\u001b[1m2767/2767\u001b[0m \u001b[32m━━━━━━━━━━━━━━━━━━━━\u001b[0m\u001b[37m\u001b[0m \u001b[1m11s\u001b[0m 4ms/step - accuracy: 0.8926 - loss: 0.2209 - val_accuracy: 0.4996 - val_loss: 1.7378\n",
            "Epoch 22/50\n",
            "\u001b[1m2767/2767\u001b[0m \u001b[32m━━━━━━━━━━━━━━━━━━━━\u001b[0m\u001b[37m\u001b[0m \u001b[1m11s\u001b[0m 4ms/step - accuracy: 0.8949 - loss: 0.2161 - val_accuracy: 0.4969 - val_loss: 1.7142\n",
            "Epoch 23/50\n",
            "\u001b[1m2767/2767\u001b[0m \u001b[32m━━━━━━━━━━━━━━━━━━━━\u001b[0m\u001b[37m\u001b[0m \u001b[1m21s\u001b[0m 4ms/step - accuracy: 0.9005 - loss: 0.2089 - val_accuracy: 0.4975 - val_loss: 1.7626\n",
            "Epoch 24/50\n",
            "\u001b[1m2767/2767\u001b[0m \u001b[32m━━━━━━━━━━━━━━━━━━━━\u001b[0m\u001b[37m\u001b[0m \u001b[1m11s\u001b[0m 4ms/step - accuracy: 0.9031 - loss: 0.2014 - val_accuracy: 0.4995 - val_loss: 1.6775\n",
            "Epoch 25/50\n",
            "\u001b[1m2767/2767\u001b[0m \u001b[32m━━━━━━━━━━━━━━━━━━━━\u001b[0m\u001b[37m\u001b[0m \u001b[1m20s\u001b[0m 4ms/step - accuracy: 0.9062 - loss: 0.1982 - val_accuracy: 0.4968 - val_loss: 1.7870\n",
            "Epoch 26/50\n",
            "\u001b[1m2767/2767\u001b[0m \u001b[32m━━━━━━━━━━━━━━━━━━━━\u001b[0m\u001b[37m\u001b[0m \u001b[1m21s\u001b[0m 4ms/step - accuracy: 0.9069 - loss: 0.1967 - val_accuracy: 0.4997 - val_loss: 1.7685\n",
            "Epoch 27/50\n",
            "\u001b[1m2767/2767\u001b[0m \u001b[32m━━━━━━━━━━━━━━━━━━━━\u001b[0m\u001b[37m\u001b[0m \u001b[1m11s\u001b[0m 4ms/step - accuracy: 0.9099 - loss: 0.1910 - val_accuracy: 0.4986 - val_loss: 1.8636\n",
            "Epoch 28/50\n",
            "\u001b[1m2767/2767\u001b[0m \u001b[32m━━━━━━━━━━━━━━━━━━━━\u001b[0m\u001b[37m\u001b[0m \u001b[1m22s\u001b[0m 4ms/step - accuracy: 0.9119 - loss: 0.1862 - val_accuracy: 0.5002 - val_loss: 1.8315\n",
            "Epoch 29/50\n",
            "\u001b[1m2767/2767\u001b[0m \u001b[32m━━━━━━━━━━━━━━━━━━━━\u001b[0m\u001b[37m\u001b[0m \u001b[1m19s\u001b[0m 4ms/step - accuracy: 0.9130 - loss: 0.1824 - val_accuracy: 0.4982 - val_loss: 1.8766\n",
            "Epoch 30/50\n",
            "\u001b[1m2767/2767\u001b[0m \u001b[32m━━━━━━━━━━━━━━━━━━━━\u001b[0m\u001b[37m\u001b[0m \u001b[1m21s\u001b[0m 4ms/step - accuracy: 0.9157 - loss: 0.1803 - val_accuracy: 0.4996 - val_loss: 1.9474\n",
            "Epoch 31/50\n",
            "\u001b[1m2767/2767\u001b[0m \u001b[32m━━━━━━━━━━━━━━━━━━━━\u001b[0m\u001b[37m\u001b[0m \u001b[1m21s\u001b[0m 4ms/step - accuracy: 0.9172 - loss: 0.1753 - val_accuracy: 0.4965 - val_loss: 1.9918\n",
            "Epoch 32/50\n",
            "\u001b[1m2767/2767\u001b[0m \u001b[32m━━━━━━━━━━━━━━━━━━━━\u001b[0m\u001b[37m\u001b[0m \u001b[1m12s\u001b[0m 4ms/step - accuracy: 0.9161 - loss: 0.1758 - val_accuracy: 0.4982 - val_loss: 1.8967\n",
            "Epoch 33/50\n",
            "\u001b[1m2767/2767\u001b[0m \u001b[32m━━━━━━━━━━━━━━━━━━━━\u001b[0m\u001b[37m\u001b[0m \u001b[1m12s\u001b[0m 4ms/step - accuracy: 0.9185 - loss: 0.1715 - val_accuracy: 0.4997 - val_loss: 1.9320\n",
            "Epoch 34/50\n",
            "\u001b[1m2767/2767\u001b[0m \u001b[32m━━━━━━━━━━━━━━━━━━━━\u001b[0m\u001b[37m\u001b[0m \u001b[1m19s\u001b[0m 4ms/step - accuracy: 0.9220 - loss: 0.1673 - val_accuracy: 0.4991 - val_loss: 2.0609\n",
            "Epoch 35/50\n",
            "\u001b[1m2767/2767\u001b[0m \u001b[32m━━━━━━━━━━━━━━━━━━━━\u001b[0m\u001b[37m\u001b[0m \u001b[1m21s\u001b[0m 4ms/step - accuracy: 0.9221 - loss: 0.1664 - val_accuracy: 0.4986 - val_loss: 1.9797\n",
            "Epoch 36/50\n",
            "\u001b[1m2767/2767\u001b[0m \u001b[32m━━━━━━━━━━━━━━━━━━━━\u001b[0m\u001b[37m\u001b[0m \u001b[1m11s\u001b[0m 4ms/step - accuracy: 0.9230 - loss: 0.1628 - val_accuracy: 0.4995 - val_loss: 2.0721\n",
            "Epoch 37/50\n",
            "\u001b[1m2767/2767\u001b[0m \u001b[32m━━━━━━━━━━━━━━━━━━━━\u001b[0m\u001b[37m\u001b[0m \u001b[1m20s\u001b[0m 4ms/step - accuracy: 0.9243 - loss: 0.1613 - val_accuracy: 0.4987 - val_loss: 2.0205\n",
            "Epoch 38/50\n",
            "\u001b[1m2767/2767\u001b[0m \u001b[32m━━━━━━━━━━━━━━━━━━━━\u001b[0m\u001b[37m\u001b[0m \u001b[1m11s\u001b[0m 4ms/step - accuracy: 0.9244 - loss: 0.1611 - val_accuracy: 0.4989 - val_loss: 2.2883\n",
            "Epoch 39/50\n",
            "\u001b[1m2767/2767\u001b[0m \u001b[32m━━━━━━━━━━━━━━━━━━━━\u001b[0m\u001b[37m\u001b[0m \u001b[1m21s\u001b[0m 4ms/step - accuracy: 0.9254 - loss: 0.1578 - val_accuracy: 0.4988 - val_loss: 2.1356\n",
            "Epoch 40/50\n",
            "\u001b[1m2767/2767\u001b[0m \u001b[32m━━━━━━━━━━━━━━━━━━━━\u001b[0m\u001b[37m\u001b[0m \u001b[1m20s\u001b[0m 4ms/step - accuracy: 0.9251 - loss: 0.1571 - val_accuracy: 0.4994 - val_loss: 2.0108\n",
            "Epoch 41/50\n",
            "\u001b[1m2767/2767\u001b[0m \u001b[32m━━━━━━━━━━━━━━━━━━━━\u001b[0m\u001b[37m\u001b[0m \u001b[1m21s\u001b[0m 4ms/step - accuracy: 0.9286 - loss: 0.1533 - val_accuracy: 0.5007 - val_loss: 2.2264\n",
            "Epoch 42/50\n",
            "\u001b[1m2767/2767\u001b[0m \u001b[32m━━━━━━━━━━━━━━━━━━━━\u001b[0m\u001b[37m\u001b[0m \u001b[1m20s\u001b[0m 4ms/step - accuracy: 0.9299 - loss: 0.1501 - val_accuracy: 0.4998 - val_loss: 2.1632\n",
            "Epoch 43/50\n",
            "\u001b[1m2767/2767\u001b[0m \u001b[32m━━━━━━━━━━━━━━━━━━━━\u001b[0m\u001b[37m\u001b[0m \u001b[1m21s\u001b[0m 4ms/step - accuracy: 0.9299 - loss: 0.1505 - val_accuracy: 0.4996 - val_loss: 2.2770\n",
            "Epoch 44/50\n",
            "\u001b[1m2767/2767\u001b[0m \u001b[32m━━━━━━━━━━━━━━━━━━━━\u001b[0m\u001b[37m\u001b[0m \u001b[1m19s\u001b[0m 4ms/step - accuracy: 0.9298 - loss: 0.1505 - val_accuracy: 0.4972 - val_loss: 2.1424\n",
            "Epoch 45/50\n",
            "\u001b[1m2767/2767\u001b[0m \u001b[32m━━━━━━━━━━━━━━━━━━━━\u001b[0m\u001b[37m\u001b[0m \u001b[1m11s\u001b[0m 4ms/step - accuracy: 0.9324 - loss: 0.1468 - val_accuracy: 0.5007 - val_loss: 2.3220\n",
            "Epoch 46/50\n",
            "\u001b[1m2767/2767\u001b[0m \u001b[32m━━━━━━━━━━━━━━━━━━━━\u001b[0m\u001b[37m\u001b[0m \u001b[1m11s\u001b[0m 4ms/step - accuracy: 0.9317 - loss: 0.1445 - val_accuracy: 0.4988 - val_loss: 2.3992\n",
            "Epoch 47/50\n",
            "\u001b[1m2767/2767\u001b[0m \u001b[32m━━━━━━━━━━━━━━━━━━━━\u001b[0m\u001b[37m\u001b[0m \u001b[1m11s\u001b[0m 4ms/step - accuracy: 0.9327 - loss: 0.1431 - val_accuracy: 0.4986 - val_loss: 2.2913\n",
            "Epoch 48/50\n",
            "\u001b[1m2767/2767\u001b[0m \u001b[32m━━━━━━━━━━━━━━━━━━━━\u001b[0m\u001b[37m\u001b[0m \u001b[1m22s\u001b[0m 5ms/step - accuracy: 0.9330 - loss: 0.1428 - val_accuracy: 0.4998 - val_loss: 2.1965\n",
            "Epoch 49/50\n",
            "\u001b[1m2767/2767\u001b[0m \u001b[32m━━━━━━━━━━━━━━━━━━━━\u001b[0m\u001b[37m\u001b[0m \u001b[1m19s\u001b[0m 4ms/step - accuracy: 0.9337 - loss: 0.1414 - val_accuracy: 0.5006 - val_loss: 2.2994\n",
            "Epoch 50/50\n",
            "\u001b[1m2767/2767\u001b[0m \u001b[32m━━━━━━━━━━━━━━━━━━━━\u001b[0m\u001b[37m\u001b[0m \u001b[1m11s\u001b[0m 4ms/step - accuracy: 0.9348 - loss: 0.1388 - val_accuracy: 0.4988 - val_loss: 2.4777\n"
          ]
        }
      ]
    },
    {
      "cell_type": "code",
      "source": [
        "import matplotlib.pyplot as plt\n",
        "\n",
        "# Function to plot the loss graph\n",
        "def plot_loss_history(history):\n",
        "    plt.figure(figsize=(8, 6))\n",
        "    plt.plot(history.history['loss'], label='Training Loss')\n",
        "    #plt.plot(history.history['val_loss'], label='Validation Loss')\n",
        "    plt.title('Loss over Epochs')\n",
        "    plt.xlabel('Epochs')\n",
        "    plt.ylabel('Loss')\n",
        "    plt.legend()\n",
        "    plt.show()\n",
        "\n",
        "# Plot the loss graph after training\n",
        "plot_loss_history(history)"
      ],
      "metadata": {
        "colab": {
          "base_uri": "https://localhost:8080/",
          "height": 564
        },
        "id": "fm1WBjforQXD",
        "outputId": "6c5ca92a-600d-4ab1-cea8-b60a0488eb48"
      },
      "execution_count": null,
      "outputs": [
        {
          "output_type": "display_data",
          "data": {
            "text/plain": [
              "<Figure size 800x600 with 1 Axes>"
            ],
            "image/png": "[encoded data removed]"
          },
          "metadata": {}
        }
      ]
    }
  ]
}